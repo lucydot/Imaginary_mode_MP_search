{
 "cells": [
  {
   "cell_type": "markdown",
   "id": "8af3ffdf",
   "metadata": {},
   "source": [
    "# Imaginary mode search  - Materials Project\n",
    "\n",
    "See https://github.com/lucydot/mp-adventures/blob/main/imaginary_search.py for the search script used."
   ]
  },
  {
   "cell_type": "code",
   "execution_count": 3,
   "id": "d7e4b16f",
   "metadata": {},
   "outputs": [],
   "source": [
    "import pickle\n",
    "\n",
    "with open(\"results_updated.pickle\", 'rb') as pickle_file:\n",
    "    content = pickle.load(pickle_file)"
   ]
  },
  {
   "cell_type": "code",
   "execution_count": 4,
   "id": "da14a4bc",
   "metadata": {},
   "outputs": [
    {
     "data": {
      "text/plain": [
       "49794"
      ]
     },
     "execution_count": 4,
     "metadata": {},
     "output_type": "execute_result"
    }
   ],
   "source": [
    "# these are the number of compounds on materials project which have experimental entries on the ICSD\n",
    "content['Num_experimental']"
   ]
  },
  {
   "cell_type": "code",
   "execution_count": 5,
   "id": "ad349b74",
   "metadata": {},
   "outputs": [
    {
     "data": {
      "text/plain": [
       "1239"
      ]
     },
     "execution_count": 5,
     "metadata": {},
     "output_type": "execute_result"
    }
   ],
   "source": [
    "# these are the number of MP experimental entries which also have DFT phonon data available\n",
    "content['Num_phonon_data']"
   ]
  },
  {
   "cell_type": "code",
   "execution_count": 6,
   "id": "d4cec247",
   "metadata": {},
   "outputs": [
    {
     "data": {
      "text/plain": [
       "170"
      ]
     },
     "execution_count": 6,
     "metadata": {},
     "output_type": "execute_result"
    }
   ],
   "source": [
    "# these are the number of MP experimental entries which have an imaginary frequency at some point in the BZ\n",
    "content['Num_imag_freq']"
   ]
  },
  {
   "cell_type": "code",
   "execution_count": 7,
   "id": "efcdadc9",
   "metadata": {},
   "outputs": [
    {
     "data": {
      "text/plain": [
       "163"
      ]
     },
     "execution_count": 7,
     "metadata": {},
     "output_type": "execute_result"
    }
   ],
   "source": [
    "# these are the number of MP experimental entries which have an imaginary frequency at a HSP in the BZ\n",
    "content['Num_imag_freq_HSP']"
   ]
  },
  {
   "cell_type": "markdown",
   "id": "d73029e0",
   "metadata": {},
   "source": [
    "The latter list of 395 entries can be accessed via:"
   ]
  },
  {
   "cell_type": "code",
   "execution_count": 8,
   "id": "cf486a03",
   "metadata": {},
   "outputs": [
    {
     "data": {
      "text/plain": [
       "[MPID(mp-24007),\n",
       " MPID(mp-27839),\n",
       " MPID(mp-28237),\n",
       " MPID(mp-3163),\n",
       " MPID(mp-7896),\n",
       " MPID(mp-556120),\n",
       " MPID(mp-616378),\n",
       " MPID(mp-5618),\n",
       " MPID(mp-4405),\n",
       " MPID(mp-7017),\n",
       " MPID(mp-22975),\n",
       " MPID(mp-571166),\n",
       " MPID(mp-1598),\n",
       " MPID(mp-14175),\n",
       " MPID(mp-2697),\n",
       " MPID(mp-13190),\n",
       " MPID(mp-6560),\n",
       " MPID(mp-14017),\n",
       " MPID(mp-28110),\n",
       " MPID(mp-557664),\n",
       " MPID(mp-9731),\n",
       " MPID(mp-3070),\n",
       " MPID(mp-370),\n",
       " MPID(mp-550751),\n",
       " MPID(mp-11824),\n",
       " MPID(mp-27369),\n",
       " MPID(mp-22904),\n",
       " MPID(mp-7886),\n",
       " MPID(mp-553281),\n",
       " MPID(mp-28377),\n",
       " MPID(mp-545544),\n",
       " MPID(mp-9195),\n",
       " MPID(mp-3834),\n",
       " MPID(mp-6929),\n",
       " MPID(mp-3654),\n",
       " MPID(mp-12525),\n",
       " MPID(mp-23137),\n",
       " MPID(mp-20620),\n",
       " MPID(mp-6492),\n",
       " MPID(mp-8962),\n",
       " MPID(mp-14039),\n",
       " MPID(mp-571124),\n",
       " MPID(mp-559695),\n",
       " MPID(mp-7394),\n",
       " MPID(mp-5280),\n",
       " MPID(mp-14070),\n",
       " MPID(mp-29751),\n",
       " MPID(mp-555286),\n",
       " MPID(mp-3395),\n",
       " MPID(mp-5479),\n",
       " MPID(mp-4690),\n",
       " MPID(mp-8298),\n",
       " MPID(mp-10481),\n",
       " MPID(mp-7801),\n",
       " MPID(mp-20463),\n",
       " MPID(mp-10378),\n",
       " MPID(mp-23036),\n",
       " MPID(mp-561947),\n",
       " MPID(mp-569028),\n",
       " MPID(mp-23067),\n",
       " MPID(mp-6613),\n",
       " MPID(mp-23475),\n",
       " MPID(mp-626151),\n",
       " MPID(mp-11713),\n",
       " MPID(mp-571386),\n",
       " MPID(mp-5955),\n",
       " MPID(mp-8299),\n",
       " MPID(mp-696804),\n",
       " MPID(mp-19799),\n",
       " MPID(mp-8455),\n",
       " MPID(mp-15557),\n",
       " MPID(mp-10653),\n",
       " MPID(mp-9382),\n",
       " MPID(mp-553374),\n",
       " MPID(mp-6059),\n",
       " MPID(mp-2150),\n",
       " MPID(mp-552663),\n",
       " MPID(mp-8224),\n",
       " MPID(mp-14069),\n",
       " MPID(mp-9881),\n",
       " MPID(mp-27207),\n",
       " MPID(mp-20098),\n",
       " MPID(mp-570354),\n",
       " MPID(mp-7251),\n",
       " MPID(mp-28650),\n",
       " MPID(mp-2251),\n",
       " MPID(mp-7956),\n",
       " MPID(mp-8291),\n",
       " MPID(mp-12015),\n",
       " MPID(mp-13926),\n",
       " MPID(mp-6058),\n",
       " MPID(mp-9348),\n",
       " MPID(mp-550685),\n",
       " MPID(mp-23513),\n",
       " MPID(mp-13658),\n",
       " MPID(mp-8703),\n",
       " MPID(mp-10381),\n",
       " MPID(mp-5427),\n",
       " MPID(mp-573204),\n",
       " MPID(mp-7148),\n",
       " MPID(mp-14006),\n",
       " MPID(mp-4359),\n",
       " MPID(mp-27691),\n",
       " MPID(mp-1565),\n",
       " MPID(mp-22851),\n",
       " MPID(mp-561827),\n",
       " MPID(mp-560037),\n",
       " MPID(mp-30056),\n",
       " MPID(mp-8039),\n",
       " MPID(mp-574599),\n",
       " MPID(mp-7955),\n",
       " MPID(mp-9321),\n",
       " MPID(mp-9064),\n",
       " MPID(mp-7482),\n",
       " MPID(mp-13798),\n",
       " MPID(mp-571467),\n",
       " MPID(mp-7618),\n",
       " MPID(mp-865427),\n",
       " MPID(mp-4342),\n",
       " MPID(mp-10167),\n",
       " MPID(mp-6951),\n",
       " MPID(mp-554941),\n",
       " MPID(mp-14036),\n",
       " MPID(mp-27831),\n",
       " MPID(mp-9107),\n",
       " MPID(mp-30004),\n",
       " MPID(mp-7684),\n",
       " MPID(mp-6798),\n",
       " MPID(mp-10474),\n",
       " MPID(mp-13055),\n",
       " MPID(mp-8963),\n",
       " MPID(mp-4156),\n",
       " MPID(mp-554412),\n",
       " MPID(mp-28602),\n",
       " MPID(mp-29678),\n",
       " MPID(mp-8267),\n",
       " MPID(mp-7569),\n",
       " MPID(mp-28075),\n",
       " MPID(mp-5431),\n",
       " MPID(mp-10680),\n",
       " MPID(mp-8289),\n",
       " MPID(mp-14652),\n",
       " MPID(mp-29364),\n",
       " MPID(mp-569149),\n",
       " MPID(mp-541899),\n",
       " MPID(mp-8300),\n",
       " MPID(mp-9205),\n",
       " MPID(mp-15556),\n",
       " MPID(mp-10159),\n",
       " MPID(mp-13548),\n",
       " MPID(mp-23097),\n",
       " MPID(mp-3813),\n",
       " MPID(mp-8978),\n",
       " MPID(mp-13287),\n",
       " MPID(mp-5475),\n",
       " MPID(mp-23017),\n",
       " MPID(mp-558118),\n",
       " MPID(mp-6686),\n",
       " MPID(mp-22919),\n",
       " MPID(mp-23120),\n",
       " MPID(mp-9774),\n",
       " MPID(mp-8187),\n",
       " MPID(mp-5986)]"
      ]
     },
     "execution_count": 8,
     "metadata": {},
     "output_type": "execute_result"
    }
   ],
   "source": [
    "content['MP-IDs_imag_freq__HSP']"
   ]
  },
  {
   "cell_type": "markdown",
   "id": "fa04b06b",
   "metadata": {},
   "source": [
    "We can confirm by hand that this is returning structures with imaginary modes at HSP by inspecting the legacy MP website (phonon data not available on the updated website):\n",
    "e.g. https://legacy.materialsproject.org/materials/mp-23475/#phonon-dispersion\n",
    "https://legacy.materialsproject.org/materials/mp-8703/#phonon-dispersion\n",
    "https://legacy.materialsproject.org/materials/mp-3813/#phonon-dispersion\n",
    "\n",
    "However it also seems that there are a number of entries without imaginary modes: \n",
    "e.g. https://legacy.materialsproject.org/materials/mp-12885/#phonon-dispersion\n",
    "\n",
    "Perhaps these are small imaginary modes at gamma, and the cutoff needs to be increased."
   ]
  },
  {
   "cell_type": "code",
   "execution_count": null,
   "id": "74a425fa",
   "metadata": {},
   "outputs": [],
   "source": []
  }
 ],
 "metadata": {
  "kernelspec": {
   "display_name": "Python 3",
   "language": "python",
   "name": "python3"
  },
  "language_info": {
   "codemirror_mode": {
    "name": "ipython",
    "version": 3
   },
   "file_extension": ".py",
   "mimetype": "text/x-python",
   "name": "python",
   "nbconvert_exporter": "python",
   "pygments_lexer": "ipython3",
   "version": "3.8.13"
  }
 },
 "nbformat": 4,
 "nbformat_minor": 5
}
